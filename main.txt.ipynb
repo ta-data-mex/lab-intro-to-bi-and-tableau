{
 "cells": [
  {
   "cell_type": "markdown",
   "id": "b3e5c9e6",
   "metadata": {},
   "source": [
    "![Ironhack logo](https://i.imgur.com/1QgrNNw.png)\n",
    "\n",
    "# Lab | Introduction to BI and Tableau\n",
    "\n",
    "## Introduction\n",
    "\n",
    "In this lab, we will practice loading data into Tableau, inspecting and modifying data types, and creating tabular views with metrics based on the information contained in the data set. We will be working with a [liquor store sales data set](https://docs.google.com/spreadsheets/d/1pQ2VFsuuwLqBstYYTY3fcZY32WLigw3Pzxnikkce6IA/edit?usp=sharing) hosted in Google Sheets.\n",
    "\n",
    "If you get stuck on any of the tasks in this lab, you can reference the excellent training video resources provided on the [Tableau website](https://www.tableau.com/learn/training). We have also referenced specific articles on topics such as binning variables and creating aliases that should be helpful in completing this lab.\n"
   ]
  },
  {
   "cell_type": "markdown",
   "id": "01027ce1",
   "metadata": {},
   "source": [
    "## Getting Started\n",
    "\n",
    "To complete this lab, follow each of the steps below.\n",
    "\n",
    "1. Open the [data set](https://docs.google.com/spreadsheets/d/1pQ2VFsuuwLqBstYYTY3fcZY32WLigw3Pzxnikkce6IA/edit?usp=sharing) in a browser.\n",
    "2. Add the data set to your Google Drive.\n",
    "3. Launch the Tableau Public application.\n",
    "4. Import the data set from Google Sheets into Tableau.\n",
    "5. Once the data set has been imported, change the data type for the Year field to string.\n",
    "6. Create a new field called Quarter by [binning](https://onlinehelp.tableau.com/current/pro/desktop/en-us/calculations_bins.htm) the month field using a bin size of 4.\n",
    "7. Create a new worksheet, drag the newly-created Quarter field into the Rows section, and drag the Number of Records measure to the center of the view. You will notice that the quarters are currently named labeled 0, 4, 8, 12. [Rename](https://onlinehelp.tableau.com/current/pro/desktop/en-us/datafields_fieldproperties_aliases_ex1editing.htm) them more intuitively by right-clicking on the Quarter dimension, selecting Aliases and changing their names to Q1, Q2, Q3, and Q4 respectively.\n",
    "8. Create new worksheets with tabular views for each of the following metrics.\n",
    "    - Total Retail Sales by Year/Quarter (rows).\n",
    "    - Average Retail Sales by Year/Quarter (rows).\n",
    "    - Total Retail Sales by Year/Month (rows) and Item Type (columns).\n",
    "    - Average Retail Sales by Year/Month (rows) and Item Type (columns).\n",
    "    - Total Retail Transfers by Year/Quarter (rows).\n",
    "    - Average Retail Transfers by Year/Quarter (rows).\n",
    "    - Total Retail Transfers by Year/Month (rows) and Item Type (columns).\n",
    "    - Average Retail Transfers by Year/Month (rows) and Item Type (columns).\n",
    "    - Total Warehouse Sales by Year/Quarter (rows).\n",
    "    - Average Warehouse Sales by Year/Quarter (rows).\n",
    "    - Total Warehouse Sales by Year/Month (rows) and Item Type (columns).\n",
    "    - Average Warehouse Sales by Year/Month (rows) and Item Type (columns).\n",
    "9. Save your work to Tableau Public, ensure that your workbook is viewable, and copy the URL for the workbook into the deliverables file for this lab. It might take several minutes for this workbook to save to Tableau Public due to the number of records in the data set.\n"
   ]
  },
  {
   "cell_type": "markdown",
   "id": "64259edf",
   "metadata": {},
   "source": [
    "## Deliverables\n",
    "\n",
    "- `main.txt` file with a link to your Tableau Public workbook.\n",
    "\n",
    "## Submission\n",
    "\n",
    "Upon completion, add your deliverables to git. Then commit git and push your branch to the remote.\n",
    "\n",
    "## Resources\n",
    "\n",
    "- [Google Sheets - Tableau](https://onlinehelp.tableau.com/current/pro/desktop/en-us/examples_googlesheets.htm)\n",
    "\n",
    "- [Data Types - Tableau](https://onlinehelp.tableau.com/current/pro/desktop/en-us/datafields_typesandroles_datatypes.htm)\n",
    "\n",
    "- [Create Bins from a Continuous Measure](https://onlinehelp.tableau.com/current/pro/desktop/en-us/calculations_bins.htm)\n",
    "\n",
    "- [Create Aliases to Rename Members in the View](https://onlinehelp.tableau.com/current/pro/desktop/en-us/datafields_fieldproperties_aliases_ex1editing.htm)\n",
    "\n",
    "- [Tableau Training Videos](https://www.tableau.com/learn/training)"
   ]
  },
  {
   "cell_type": "code",
   "execution_count": null,
   "id": "8569168e",
   "metadata": {},
   "outputs": [],
   "source": [
    "tableau_url = ('https://public.tableau.com/views/lab-intro-tableau_16445325005480/2?:language=en-US&publish=yes&:display_count=n&:origin=viz_share_link')"
   ]
  }
 ],
 "metadata": {
  "kernelspec": {
   "display_name": "Python 3",
   "language": "python",
   "name": "python3"
  },
  "language_info": {
   "codemirror_mode": {
    "name": "ipython",
    "version": 3
   },
   "file_extension": ".py",
   "mimetype": "text/x-python",
   "name": "python",
   "nbconvert_exporter": "python",
   "pygments_lexer": "ipython3",
   "version": "3.8.8"
  }
 },
 "nbformat": 4,
 "nbformat_minor": 5
}
